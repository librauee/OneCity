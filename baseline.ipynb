{
 "cells": [
  {
   "cell_type": "code",
   "execution_count": 1,
   "metadata": {
    "collapsed": true
   },
   "outputs": [],
   "source": [
    "import pandas as pd\n",
    "from sklearn.preprocessing import LabelEncoder\n",
    "\n",
    "\n",
    "train_df = pd.read_csv('answer_train.csv')\n",
    "lb = LabelEncoder()\n",
    "train_df['label'] = lb.fit_transform(train_df['label'])\n",
    "test_df = pd.read_csv('submit_example_test1.csv')\n",
    "test_df.drop('label', axis=1, inplace=True)\n",
    "df = pd.concat([train_df, test_df], axis=0)\n",
    "df['file'] = df['filename'].apply(lambda x: x.split('.')[0][6:].replace('_', ''))"
   ]
  },
  {
   "cell_type": "code",
   "execution_count": 4,
   "metadata": {},
   "outputs": [],
   "source": [
    "import jieba\n",
    "from keras.preprocessing.text import Tokenizer\n",
    "from keras.preprocessing.sequence import pad_sequences\n",
    "from sklearn.model_selection import train_test_split\n",
    "\n",
    "cw = lambda x: list(jieba.cut(x))\n",
    "df['words'] = df['file'].apply(cw)\n",
    "tokenizer=Tokenizer() \n",
    "tokenizer.fit_on_texts(df['words'])\n",
    "vocab=tokenizer.word_index"
   ]
  },
  {
   "cell_type": "code",
   "execution_count": null,
   "metadata": {
    "collapsed": true
   },
   "outputs": [],
   "source": [
    "X = df[~df['label'].isnull()]\n",
    "y_train = X['label']\n",
    "X_train = X['words']\n",
    "X_test = df[df['label'].isnull()]['words']"
   ]
  },
  {
   "cell_type": "code",
   "execution_count": null,
   "metadata": {
    "collapsed": true
   },
   "outputs": [],
   "source": [
    "from keras.preprocessing.sequence import pad_sequences\n",
    "from keras.preprocessing.text import Tokenizer\n",
    "from keras.layers.merge import concatenate\n",
    "from keras.models import Sequential, Model\n",
    "from keras.layers import Dense, Embedding, Activation, merge, Input, Lambda, Reshape, BatchNormalization\n",
    "from keras.layers import Convolution1D, Flatten, Dropout, MaxPool1D, GlobalAveragePooling1D, Conv1D, MaxPooling1D\n",
    "from keras.layers import LSTM, GRU, TimeDistributed, Bidirectional\n",
    "from keras.utils.np_utils import to_categorical\n",
    "from keras import initializers\n",
    "from keras import backend as K\n",
    "from keras.engine.topology import Layer\n",
    "from sklearn.naive_bayes import MultinomialNB\n",
    "from sklearn.linear_model import SGDClassifier\n",
    "from sklearn.feature_extraction.text import TfidfVectorizer\n",
    "import keras\n",
    "from sklearn import metrics\n",
    "from sklearn.model_selection import StratifiedKFold\n",
    "import numpy as np\n",
    "import tensorflow as tf\n",
    "\n",
    "# 设置随机数种子\n",
    "seed = 2020\n",
    "np.random.seed(seed)\n",
    "tf.set_random_seed(seed)\n",
    "\n",
    "def NN():\n",
    "    model = Sequential()\n",
    "    model.add(Embedding(len(vocab) + 1, 300, input_length=30)) #使用Embeeding层将每个词编码转换为词向量\n",
    "    model.add(Conv1D(256, 5, padding='same'))\n",
    "    model.add(MaxPooling1D(3, 3, padding='same'))\n",
    "    model.add(Conv1D(128, 5, padding='same'))\n",
    "    model.add(MaxPooling1D(3, 3, padding='same'))\n",
    "    model.add(Conv1D(64, 3, padding='same'))\n",
    "    model.add(Flatten())\n",
    "    model.add(Dropout(0.1))\n",
    "    model.add(BatchNormalization())  \n",
    "    model.add(Dense(256, activation='relu'))\n",
    "    model.add(Dropout(0.1))\n",
    "    model.add(Dense(20, activation='softmax'))   \n",
    "    return model"
   ]
  },
  {
   "cell_type": "code",
   "execution_count": null,
   "metadata": {
    "collapsed": true
   },
   "outputs": [],
   "source": [
    "oof = np.zeros(len(X_train))\n",
    "predictions = np.zeros((len(X_test), 20))\n",
    "KF = StratifiedKFold(n_splits=5, shuffle=True, random_state=2020)\n",
    "for fold_, (trn_idx, val_idx) in enumerate(KF.split(X_train.values, y_train.values)):\n",
    "    print(\"fold n°{}\".format(fold_))\n",
    "    print('trn_idx:',trn_idx)\n",
    "    print('val_idx:',val_idx)\n",
    "    X_tr = X_train.iloc[trn_idx]\n",
    "    X_val = X_train.iloc[val_idx]\n",
    "    X_train_word_ids = tokenizer.texts_to_sequences(X_tr)\n",
    "    X_valid_word_ids = tokenizer.texts_to_sequences(X_val)\n",
    "    X_test_word_ids = tokenizer.texts_to_sequences(X_test)\n",
    "    X_train_padded_seqs=pad_sequences(X_train_word_ids,maxlen=30)\n",
    "    X_valid_padded_seqs=pad_sequences(X_valid_word_ids,maxlen=30)\n",
    "    X_test_padded_seqs=pad_sequences(X_test_word_ids, maxlen=30)\n",
    "    y_tr = y_train.iloc[trn_idx]\n",
    "    y_tr = keras.utils.to_categorical(y_tr, num_classes=20)\n",
    "    y_val = y_train.iloc[val_idx]\n",
    "    y_val = keras.utils.to_categorical(y_val, num_classes=20)\n",
    "    model = NN()\n",
    "    model.compile(loss='categorical_crossentropy',optimizer='adam',metrics=['accuracy'])      \n",
    "    model.fit(X_train_padded_seqs, y_tr, epochs=50, batch_size=1024, validation_data=(X_valid_padded_seqs, y_val), callbacks=[ES])\n",
    "    oof[val_idx] = model.predict_classes(X_valid_padded_seqs)\n",
    "    temp = model.predict_proba(X_test_padded_seqs)\n",
    "    predictions[:] += temp"
   ]
  },
  {
   "cell_type": "code",
   "execution_count": null,
   "metadata": {
    "collapsed": true
   },
   "outputs": [],
   "source": [
    "test_label = lb.inverse_transform([np.argmax(i) for i in predictions / np.array(5)])\n",
    "test_df['label'] = test_label\n",
    "test_df.to_csv('baseline_sub.csv', index=False)"
   ]
  }
 ],
 "metadata": {
  "kernelspec": {
   "display_name": "Python 3",
   "language": "python",
   "name": "python3"
  },
  "language_info": {
   "codemirror_mode": {
    "name": "ipython",
    "version": 3
   },
   "file_extension": ".py",
   "mimetype": "text/x-python",
   "name": "python",
   "nbconvert_exporter": "python",
   "pygments_lexer": "ipython3",
   "version": "3.6.1"
  }
 },
 "nbformat": 4,
 "nbformat_minor": 2
}
