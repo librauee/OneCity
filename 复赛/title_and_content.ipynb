{
 "cells": [
  {
   "cell_type": "code",
   "execution_count": 1,
   "metadata": {
    "collapsed": true
   },
   "outputs": [],
   "source": [
    "from sklearn.model_selection import train_test_split\n",
    "from sklearn.preprocessing import LabelEncoder\n",
    "import pandas as pd\n",
    "import re\n",
    "import numpy as np\n",
    "\n",
    "train_df = pd.read_csv('train_text.csv')\n",
    "train_df2 = pd.read_csv('test_text.csv')\n",
    "train_label = pd.read_csv('test1.csv')\n",
    "train_answer = pd.read_csv('answer_train.csv')\n",
    "lb = LabelEncoder()\n",
    "train_answer['label'] = lb.fit_transform(train_answer['label'])\n",
    "train_label['label'] = lb.transform(train_label['label'])\n",
    "train_label.columns = ['id', 'label']\n",
    "train_df2 = pd.merge(train_df2, train_label, on='id', how='left')\n",
    "train_df = pd.concat([train_df, train_df2], axis=0)\n",
    "test_df = pd.read_csv('test_text2.csv')"
   ]
  },
  {
   "cell_type": "code",
   "execution_count": 22,
   "metadata": {
    "collapsed": true
   },
   "outputs": [],
   "source": [
    "# preprocess\n",
    "pattern = re.compile(\"[^\\u4e00-\\u9fa5]\")\n",
    "def preprocess(x):\n",
    "    text = str(x['text'])\n",
    "    text = re.sub(pattern, '', text)\n",
    "    text = ''.join(text.split())\n",
    "    title = x['id'].split('.')[0][6:].replace('_', '')\n",
    "    if '无访问权限' in text or len(text) < 20:\n",
    "        return title\n",
    "    elif len(text) > 10000:\n",
    "        return title + text[:10000]\n",
    "    else:\n",
    "        return title + text\n",
    "    \n",
    "train_df['text_new'] = train_df.apply(lambda x: preprocess(x), axis=1)\n",
    "test_df['text_new'] = test_df.apply(lambda x: preprocess(x), axis=1)\n",
    "\n",
    "train_set, valid_set = train_test_split(train_df, stratify=train_df['label'], test_size=0.2, random_state=2020)\n",
    "train_set[['label', 'text_new']].to_csv('bert/data_both/train.tsv', sep='\\t', index=False, header=None)\n",
    "valid_set[['label', 'text_new']].to_csv('bert/data_both/dev.tsv', sep='\\t', index=False, header=None)"
   ]
  },
  {
   "cell_type": "code",
   "execution_count": 2,
   "metadata": {
    "collapsed": true
   },
   "outputs": [],
   "source": [
    "def preprocess2(x):\n",
    "    text = str(x['text'])\n",
    "    text = re.sub(pattern, '', text)\n",
    "    text = ''.join(text.split())\n",
    "    title = re.sub(pattern, '', x['id'])\n",
    "    if len(title) == 0:\n",
    "        if len(text) > 10000:\n",
    "            return text[:10000]\n",
    "        else:\n",
    "            return text        \n",
    "    else:\n",
    "        title = x['id'].split('.')[0][6:].replace('_', '')\n",
    "        if '无访问权限' in text or len(text) < 20:\n",
    "            return title\n",
    "        elif len(text) > 10000:\n",
    "            return title + text[:10000]\n",
    "        else:\n",
    "            return title + text\n",
    "test_df['text_new'] = test_df.apply(lambda x: preprocess2(x), axis=1)"
   ]
  },
  {
   "cell_type": "code",
   "execution_count": 4,
   "metadata": {
    "collapsed": true
   },
   "outputs": [],
   "source": [
    "test_df['label'] = 0\n",
    "test_df[['label', 'text_new']].to_csv('bert/data_both/test.tsv', sep='\\t', index=False, header=None)"
   ]
  },
  {
   "cell_type": "code",
   "execution_count": null,
   "metadata": {
    "collapsed": true
   },
   "outputs": [],
   "source": []
  },
  {
   "cell_type": "code",
   "execution_count": null,
   "metadata": {
    "collapsed": true
   },
   "outputs": [],
   "source": [
    "# predict\n",
    "test_predict = pd.read_csv('bert/output_both/test_results.tsv', sep='\\t', header=None)\n",
    "test_label = lb.inverse_transform([np.argmax(i) for i in test_predict.values])\n",
    "test_df['label'] = test_label"
   ]
  },
  {
   "cell_type": "code",
   "execution_count": 17,
   "metadata": {
    "collapsed": true
   },
   "outputs": [],
   "source": [
    "def choose_label(x):\n",
    "    if x['label_y'] != '0':\n",
    "        return x['label_y']\n",
    "    else:\n",
    "        return x['label_x']"
   ]
  },
  {
   "cell_type": "code",
   "execution_count": 31,
   "metadata": {
    "collapsed": true
   },
   "outputs": [],
   "source": [
    "# combine answer\n",
    "test_df_content = pd.read_csv('content_final.csv')\n",
    "test_df_title = pd.read_csv('title_final.csv')\n",
    "test = pd.concat([test_df_content, test_df_title], axis=0)"
   ]
  },
  {
   "cell_type": "code",
   "execution_count": 36,
   "metadata": {},
   "outputs": [],
   "source": [
    "result = pd.merge(test_df, test, on='id', how='left')\n",
    "result['label_y'] = result['label_y'].fillna('0')\n",
    "result['label'] = result.apply(choose_label, axis=1)\n",
    "result['filename'] = result['id']\n",
    "result[['filename', 'label']].to_csv('submit_final_5.csv', index=False)"
   ]
  },
  {
   "cell_type": "code",
   "execution_count": null,
   "metadata": {
    "collapsed": true
   },
   "outputs": [],
   "source": []
  },
  {
   "cell_type": "code",
   "execution_count": null,
   "metadata": {
    "collapsed": true
   },
   "outputs": [],
   "source": []
  }
 ],
 "metadata": {
  "kernelspec": {
   "display_name": "Python 3",
   "language": "python",
   "name": "python3"
  },
  "language_info": {
   "codemirror_mode": {
    "name": "ipython",
    "version": 3
   },
   "file_extension": ".py",
   "mimetype": "text/x-python",
   "name": "python",
   "nbconvert_exporter": "python",
   "pygments_lexer": "ipython3",
   "version": "3.6.1"
  }
 },
 "nbformat": 4,
 "nbformat_minor": 2
}
