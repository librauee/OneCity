{
 "cells": [
  {
   "cell_type": "code",
   "execution_count": 1,
   "metadata": {
    "collapsed": true
   },
   "outputs": [],
   "source": [
    "import pandas as pd\n",
    "from sklearn.preprocessing import LabelEncoder\n",
    "import xlrd \n",
    "\n",
    "train_df = pd.read_csv('answer_train.csv')\n",
    "lb = LabelEncoder()\n",
    "train_df['label'] = lb.fit_transform(train_df['label'])\n",
    "test_df = pd.read_csv('submit_example_test1.csv')\n",
    "test_df2 = pd.read_csv('submit_example_test2.csv')"
   ]
  },
  {
   "cell_type": "code",
   "execution_count": 3,
   "metadata": {
    "collapsed": true
   },
   "outputs": [],
   "source": [
    "def read_sheet(path):\n",
    "    workbook = xlrd.open_workbook(path) \n",
    "    sheetnames = workbook.sheet_names() \n",
    "    content = []\n",
    "    for sheetN in sheetnames:\n",
    "        sheet = workbook.sheet_by_name(sheetN) \n",
    "        for i in range(sheet.nrows):\n",
    "            for j in range(sheet.ncols):\n",
    "                content.append(str(sheet.cell(i,j).value))\n",
    "    return \"\".join(content)"
   ]
  },
  {
   "cell_type": "code",
   "execution_count": null,
   "metadata": {
    "collapsed": true
   },
   "outputs": [],
   "source": [
    "import os\n",
    "import chardet\n",
    "from tqdm import tqdm\n",
    "\n",
    "filename_list = train_df['filename']\n",
    "content_list = []\n",
    "error_list = []\n",
    "for i in tqdm(range(len(filename_list) )):\n",
    "\n",
    "    bytes = min(32, os.path.getsize(filename_list[i]))\n",
    "    raw = open(filename_list[i], 'rb').read(bytes)\n",
    "    result = chardet.detect(raw)\n",
    "    encoding = result['encoding']\n",
    "    if encoding in ['ISO-8859-1']:  \n",
    "\n",
    "        try:\n",
    "            content = read_sheet(filename_list[i])\n",
    "        except:\n",
    "            try:\n",
    "                new_file_name = filename_list[i].split('.')[0] + '.csv'\n",
    "                if os.path.exists(new_file_name):\n",
    "                    new_file_name = new_file_name[:-4] + '9999' + '.csv'\n",
    "                os.rename(filename_list[i], new_file_name)\n",
    "                with open(new_file_name, encoding='utf-8') as f:\n",
    "                    content = f.read()\n",
    "                os.rename(new_file_name, filename_list[i])\n",
    "            except:\n",
    "                error_list.append(i)\n",
    "                content = ''\n",
    "\n",
    "    else:\n",
    "        with open(filename_list[i], encoding='utf-8') as f:\n",
    "            content = f.read()\n",
    "    content_list.append(content.replace(',','').replace('\\n', ''))       "
   ]
  },
  {
   "cell_type": "code",
   "execution_count": null,
   "metadata": {
    "collapsed": true
   },
   "outputs": [],
   "source": [
    "pd.DataFrame({\n",
    "    'id': filename_list,\n",
    "    'text': content_list,\n",
    "    'label': train_df['label']\n",
    "}).to_csv('train_text.csv', index=False)"
   ]
  },
  {
   "cell_type": "code",
   "execution_count": null,
   "metadata": {
    "collapsed": true
   },
   "outputs": [],
   "source": [
    "filename_list = test_df2['filename']\n",
    "content_list = []\n",
    "error_list = []\n",
    "for i in tqdm(range(len(filename_list) )):\n",
    "\n",
    "    bytes = min(32, os.path.getsize(filename_list[i]))\n",
    "    raw = open(filename_list[i], 'rb').read(bytes)\n",
    "    result = chardet.detect(raw)\n",
    "    encoding = result['encoding']\n",
    "    if encoding in ['ISO-8859-1']:  \n",
    "\n",
    "        try:\n",
    "            content = read_sheet(filename_list[i])\n",
    "        except:\n",
    "            try:\n",
    "                new_file_name = filename_list[i].split('.')[0] + '.csv'\n",
    "                if os.path.exists(new_file_name):\n",
    "                    new_file_name = new_file_name[:-4] + '9999' + '.csv'\n",
    "                os.rename(filename_list[i], new_file_name)\n",
    "                with open(new_file_name, encoding='utf-8') as f:\n",
    "                    content = f.read()\n",
    "                os.rename(new_file_name, filename_list[i])\n",
    "            except:\n",
    "                error_list.append(i)\n",
    "                content = ''\n",
    "\n",
    "    else:\n",
    "        with open(filename_list[i], encoding='utf-8') as f:\n",
    "            content = f.read()\n",
    "    content_list.append(content.replace(',','').replace('\\n', ''))  "
   ]
  },
  {
   "cell_type": "code",
   "execution_count": 6,
   "metadata": {
    "collapsed": true
   },
   "outputs": [],
   "source": [
    "pd.DataFrame({\n",
    "    'id': filename_list,\n",
    "    'text': content_list,\n",
    "}).to_csv('test_text2.csv', index=False)"
   ]
  },
  {
   "cell_type": "code",
   "execution_count": null,
   "metadata": {
    "collapsed": true
   },
   "outputs": [],
   "source": []
  }
 ],
 "metadata": {
  "kernelspec": {
   "display_name": "Python 3",
   "language": "python",
   "name": "python3"
  },
  "language_info": {
   "codemirror_mode": {
    "name": "ipython",
    "version": 3
   },
   "file_extension": ".py",
   "mimetype": "text/x-python",
   "name": "python",
   "nbconvert_exporter": "python",
   "pygments_lexer": "ipython3",
   "version": "3.6.1"
  }
 },
 "nbformat": 4,
 "nbformat_minor": 2
}
