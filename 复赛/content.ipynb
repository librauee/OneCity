{
 "cells": [
  {
   "cell_type": "code",
   "execution_count": 10,
   "metadata": {
    "collapsed": true
   },
   "outputs": [],
   "source": [
    "from sklearn.model_selection import train_test_split\n",
    "from sklearn.preprocessing import LabelEncoder\n",
    "import pandas as pd\n",
    "import re\n",
    "import numpy as np\n",
    "import warnings\n",
    "\n",
    "warnings.filterwarnings('ignore')\n",
    "\n",
    "train_df = pd.read_csv('train_text.csv')\n",
    "train_df2 = pd.read_csv('test_text.csv')\n",
    "train_label = pd.read_csv('test1.csv')\n",
    "train_answer = pd.read_csv('answer_train.csv')\n",
    "lb = LabelEncoder()\n",
    "train_answer['label'] = lb.fit_transform(train_answer['label'])\n",
    "train_label['label'] = lb.transform(train_label['label'])\n",
    "train_label.columns = ['id', 'label']\n",
    "train_df2 = pd.merge(train_df2, train_label, on='id', how='left')\n",
    "train_df = pd.concat([train_df, train_df2], axis=0)\n",
    "test_df = pd.read_csv('test_text2.csv')"
   ]
  },
  {
   "cell_type": "code",
   "execution_count": 12,
   "metadata": {},
   "outputs": [],
   "source": [
    "# preprocess\n",
    "pattern = re.compile(\"[^\\u4e00-\\u9fa5]\")\n",
    "def preprocess_train(x):\n",
    "    text = str(x['text'])\n",
    "    text = re.sub(pattern, '', text)\n",
    "    text = ''.join(text.split())\n",
    "    if '无访问权限' in text:\n",
    "        return ''\n",
    "    elif len(text) > 5000:\n",
    "        return text[:5000]\n",
    "    else:\n",
    "        return text\n",
    "    \n",
    "train_df['text_new'] = train_df.apply(lambda x: preprocess_train(x), axis=1)\n",
    "train_df = train_df[train_df['text_new']!=''].reset_index(drop=True)[['id', 'text_new','label']]\n",
    "def preprocess_test(x):\n",
    "    text = str(x['text'])\n",
    "    text = re.sub(pattern, '', text)\n",
    "    text = ''.join(text.split())\n",
    "    title = re.sub(pattern, '', x['id'])\n",
    "    if len(title) != 0:\n",
    "        return ''       \n",
    "    else:\n",
    "        if '无访问权限' in text:\n",
    "            return ''\n",
    "        elif len(text) > 5000:\n",
    "            return text[:5000]\n",
    "        else:\n",
    "            return text\n",
    "test_df['text_new'] = test_df.apply(lambda x: preprocess_test(x), axis=1)\n",
    "test_df = test_df[test_df['text_new']!=''].reset_index(drop=True)[['id', 'text_new']]"
   ]
  },
  {
   "cell_type": "code",
   "execution_count": 7,
   "metadata": {
    "collapsed": true
   },
   "outputs": [],
   "source": [
    "train_set, valid_set = train_test_split(train_df, stratify=train_df['label'], test_size=0.2, random_state=2020)\n",
    "train_set[['label', 'text_new']].to_csv('bert/data_content/train.tsv', sep='\\t', index=False, header=None)\n",
    "valid_set[['label', 'text_new']].to_csv('bert/data_content/dev.tsv', sep='\\t', index=False, header=None)\n",
    "test_df['label'] = 0\n",
    "test_df[['label', 'text_new']].to_csv('bert/data_content/test.tsv', sep='\\t', index=False, header=None)"
   ]
  },
  {
   "cell_type": "code",
   "execution_count": 14,
   "metadata": {
    "collapsed": true
   },
   "outputs": [],
   "source": [
    "# predict\n",
    "test_predict = pd.read_csv('bert/output_content/test_results.tsv', sep='\\t', header=None)\n",
    "test_label = lb.inverse_transform([np.argmax(i) for i in test_predict.values])\n",
    "test_df['label'] = test_label\n",
    "test_df[['id', 'label']].to_csv('content_final.csv', index=False)"
   ]
  },
  {
   "cell_type": "code",
   "execution_count": null,
   "metadata": {
    "collapsed": true
   },
   "outputs": [],
   "source": []
  }
 ],
 "metadata": {
  "kernelspec": {
   "display_name": "Python 3",
   "language": "python",
   "name": "python3"
  },
  "language_info": {
   "codemirror_mode": {
    "name": "ipython",
    "version": 3
   },
   "file_extension": ".py",
   "mimetype": "text/x-python",
   "name": "python",
   "nbconvert_exporter": "python",
   "pygments_lexer": "ipython3",
   "version": "3.6.1"
  }
 },
 "nbformat": 4,
 "nbformat_minor": 2
}
